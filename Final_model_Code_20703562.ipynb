{
  "nbformat": 4,
  "nbformat_minor": 0,
  "metadata": {
    "colab": {
      "provenance": []
    },
    "kernelspec": {
      "name": "python3",
      "display_name": "Python 3"
    },
    "language_info": {
      "name": "python"
    }
  },
  "cells": [
    {
      "cell_type": "markdown",
      "source": [
        "N/LAB Platinum Deposit Customer Prediction Model"
      ],
      "metadata": {
        "id": "g9e0hn7pP53R"
      }
    },
    {
      "cell_type": "markdown",
      "source": [
        "Random Forest\n"
      ],
      "metadata": {
        "id": "mohOlDIbLsk_"
      }
    },
    {
      "cell_type": "markdown",
      "source": [
        "The Model that has been choosen for prediction"
      ],
      "metadata": {
        "id": "kQdqdXz_MIeb"
      }
    },
    {
      "cell_type": "code",
      "source": [
        "# Step 1: Import necessary libraries\n",
        "import pandas as pd\n",
        "from sklearn.ensemble import RandomForestClassifier\n",
        "from sklearn.model_selection import train_test_split, cross_val_score\n",
        "from sklearn.metrics import accuracy_score, precision_score, recall_score, f1_score, confusion_matrix\n",
        "import seaborn as sns\n",
        "import matplotlib.pyplot as plt\n",
        "import numpy as np\n",
        "\n",
        "# Step 2: Load the dataset\n",
        "file_path = r\"/content/cwk_data_20703562.csv\"  # Update this with your dataset path\n",
        "data = pd.read_csv(file_path)\n",
        "\n",
        "# Descriptive Statistics\n",
        "print(\"\\nDescriptive Statistics for Numerical Variables:\")\n",
        "print(data.describe())\n",
        "\n",
        "# Check Missing Values\n",
        "missing_values = data.isnull().sum()\n",
        "missing_percentage = (missing_values / len(data)) * 100\n",
        "print(\"\\nMissing Values Percentage:\")\n",
        "print(missing_percentage[missing_percentage > 0])\n",
        "\n",
        "# Step 3: Preprocess the dataset\n",
        "# Define feature matrix (X) and target variable (y)\n",
        "X = data.drop(columns=['y'])  # Drop the target variable column ('y') from the dataset\n",
        "y = data['y'].map({'yes': 1, 'no': 0})  # Convert target variable to binary (1 for 'yes', 0 for 'no')\n",
        "\n",
        "# Encode categorical variables\n",
        "X = pd.get_dummies(X, drop_first=True)  # Convert categorical variables to dummy/one-hot encoding\n",
        "\n",
        "# Step 4: Split the data into training and test sets\n",
        "X_train, X_test, Y_train, Y_test = train_test_split(X, y, test_size=0.2, random_state=42)\n",
        "\n",
        "# Step 5: Initialize Random Forest model with parameterization\n",
        "rf_model = RandomForestClassifier(\n",
        "    n_estimators=100,    # Number of trees in the forest\n",
        "    max_depth=10,        # Maximum depth of each tree\n",
        "    min_samples_split=2, # Minimum samples required to split an internal node\n",
        "    min_samples_leaf=1,  # Minimum samples required to be at a leaf node\n",
        "    random_state=42,     # Ensure reproducibility\n",
        "    n_jobs=-1            # Use all processors for parallel computation\n",
        ")\n",
        "\n",
        "# Step 6: Perform cross-validation\n",
        "cv_scores = cross_val_score(rf_model, X_train, Y_train, cv=5, scoring='accuracy')\n",
        "\n",
        "# Step 7: Train the model on the training set\n",
        "rf_model.fit(X_train, Y_train)\n",
        "\n",
        "# Step 8: Make predictions on the test set\n",
        "rf_predictions = rf_model.predict(X_test)\n",
        "\n",
        "# Step 9: Compute performance metrics\n",
        "accuracy = accuracy_score(Y_test, rf_predictions)\n",
        "precision = precision_score(Y_test, rf_predictions)\n",
        "recall = recall_score(Y_test, rf_predictions)\n",
        "f1 = f1_score(Y_test, rf_predictions)\n",
        "conf_matrix = confusion_matrix(Y_test, rf_predictions)\n",
        "\n",
        "# Step 10: Display results\n",
        "print(\"Random Forest Results:\")\n",
        "print(f\"Cross-Validation Accuracy: {np.mean(cv_scores):.4f}\")\n",
        "print(f\"Test Accuracy: {accuracy:.4f}\")\n",
        "print(f\"Precision: {precision:.4f}\")\n",
        "print(f\"Recall: {recall:.4f}\")\n",
        "print(f\"F1-Score: {f1:.4f}\")\n",
        "print(f\"Confusion Matrix:\\n{conf_matrix}\")\n",
        "\n",
        "# Step 11: Display the confusion matrix as a heatmap\n",
        "sns.set_style(\"white\")\n",
        "plt.rcParams['figure.figsize'] = (10.0, 8.0)  # Set the figure size\n",
        "sns.heatmap(conf_matrix, annot=True, fmt=\"d\", cmap=\"Blues\", cbar=True)  # Plot the heatmap\n",
        "\n",
        "# Step 12: Add titles and axis labels\n",
        "plt.title(\"Confusion Matrix: Random Forest\")\n",
        "plt.xlabel(\"Predicted Label\")\n",
        "plt.ylabel(\"True Label\")\n",
        "\n",
        "# Step 13: Show the heatmap\n",
        "plt.show()\n",
        "#Used the help of Chatgpt"
      ],
      "metadata": {
        "colab": {
          "base_uri": "https://localhost:8080/",
          "height": 1000
        },
        "id": "SgqJWARMLtMB",
        "outputId": "4fbe8597-1b02-49c1-8df0-2d506c76bd91"
      },
      "execution_count": 10,
      "outputs": [
        {
          "output_type": "stream",
          "name": "stdout",
          "text": [
            "\n",
            "Descriptive Statistics for Numerical Variables:\n",
            "               age       balance          day     duration    campaign  \\\n",
            "count  4000.000000   4000.000000  4000.000000  4000.000000  4000.00000   \n",
            "mean     41.202500   1365.603500    15.892000   295.182250     2.65625   \n",
            "std      10.999738   2724.420654     8.438936   287.750331     3.10419   \n",
            "min      18.000000  -1884.000000     1.000000     1.000000     1.00000   \n",
            "25%      33.000000     86.000000     8.000000   114.000000     1.00000   \n",
            "50%      39.000000    465.000000    16.000000   202.500000     2.00000   \n",
            "75%      49.000000   1457.250000    22.000000   364.000000     3.00000   \n",
            "max      92.000000  56831.000000    31.000000  2770.000000    58.00000   \n",
            "\n",
            "            pdays     previous  \n",
            "count  4000.00000  4000.000000  \n",
            "mean     43.83825     0.616750  \n",
            "std     102.89674     1.825843  \n",
            "min      -1.00000     0.000000  \n",
            "25%      -1.00000     0.000000  \n",
            "50%      -1.00000     0.000000  \n",
            "75%      -1.00000     0.000000  \n",
            "max     854.00000    38.000000  \n",
            "\n",
            "Missing Values Percentage:\n",
            "Series([], dtype: float64)\n",
            "Random Forest Results:\n",
            "Cross-Validation Accuracy: 0.8613\n",
            "Test Accuracy: 0.8350\n",
            "Precision: 0.6967\n",
            "Recall: 0.4722\n",
            "F1-Score: 0.5629\n",
            "Confusion Matrix:\n",
            "[[583  37]\n",
            " [ 95  85]]\n"
          ]
        },
        {
          "output_type": "display_data",
          "data": {
            "text/plain": [
              "<Figure size 1000x800 with 2 Axes>"
            ],
            "image/png": "[encoded data removed]"
          },
          "metadata": {}
        }
      ]
    },
    {
      "cell_type": "code",
      "source": [],
      "metadata": {
        "id": "eIOmsi8DPE30"
      },
      "execution_count": null,
      "outputs": []
    }
  ]
}